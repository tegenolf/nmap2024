{
 "cells": [
  {
   "cell_type": "markdown",
   "id": "consistent-cornell",
   "metadata": {},
   "source": [
    "<h1 style=\"text-align: center; vertical-align: middle;\">Numerical Methods in Accelerator Physics</h1>\n",
    "<h2 style=\"text-align: center; vertical-align: middle;\">Python examples -- Week 1</h2>"
   ]
  },
  {
   "cell_type": "markdown",
   "id": "terminal-diabetes",
   "metadata": {},
   "source": [
    "<h2>Run this first!</h2>\n",
    "\n",
    "Imports and modules:"
   ]
  },
  {
   "cell_type": "code",
   "execution_count": null,
   "id": "helpful-slovakia",
   "metadata": {},
   "outputs": [],
   "source": [
    "from config import *\n",
    "%matplotlib inline"
   ]
  },
  {
   "cell_type": "markdown",
   "id": "atlantic-finance",
   "metadata": {},
   "source": [
    "<h2>Phase space plots based on Lagragian (slide 21)</h2>"
   ]
  },
  {
   "cell_type": "code",
   "execution_count": null,
   "id": "excited-technical",
   "metadata": {},
   "outputs": [],
   "source": [
    "m = 1 # point mass\n",
    "g = 1 # magnitude of the gravitational field\n",
    "L = 1 # length of the rod"
   ]
  },
  {
   "cell_type": "code",
   "execution_count": null,
   "id": "expected-blood",
   "metadata": {},
   "outputs": [],
   "source": [
    "def plot_arrow(theta, p, dt=1):\n",
    "    # equations of motion:\n",
    "    dtheta = p / (m * L*L) * dt\n",
    "    dp = - m * g * L * np.sin(theta) * dt\n",
    "    \n",
    "    # plotting\n",
    "    plt.scatter([theta], [p], s=50, c='r', marker='*', zorder=10)\n",
    "    plt.annotate('', \n",
    "                 xytext=(theta, p), \n",
    "                 xy=(theta + dtheta, p + dp), \n",
    "                 arrowprops=dict(facecolor='black', shrink=0.03))"
   ]
  },
  {
   "cell_type": "code",
   "execution_count": null,
   "id": "together-birthday",
   "metadata": {},
   "outputs": [],
   "source": [
    "plot_arrow(1, 0)\n",
    "plot_arrow(0, -1)\n",
    "plot_arrow(-1, 0)\n",
    "plot_arrow(0, 1)\n",
    "#plot_arrow(1/1.41, 1/1.41)\n",
    "\n",
    "# increase momentum:\n",
    "#for i in np.arange(0.4, 2.5, 0.2):\n",
    "#    plot_arrow(0, i)\n",
    "\n",
    "# increase angle:\n",
    "#for i in np.arange(1, np.pi * 1.1, 0.2):\n",
    "#    plot_arrow(i, 0)\n",
    "\n",
    "set_axes()"
   ]
  },
  {
   "cell_type": "markdown",
   "id": "sunset-dependence",
   "metadata": {},
   "source": [
    "<h2>Hamiltonian of the pendulum (slide 25)</h2>"
   ]
  },
  {
   "cell_type": "code",
   "execution_count": null,
   "id": "practical-keeping",
   "metadata": {},
   "outputs": [],
   "source": [
    "def hamiltonian(theta, p):\n",
    "    T = p * p / (2 * m * L*L)\n",
    "    U = m * g * L * (1 - np.cos(theta))\n",
    "    return T + U"
   ]
  },
  {
   "cell_type": "code",
   "execution_count": null,
   "id": "accessory-perfume",
   "metadata": {},
   "outputs": [],
   "source": [
    "TH, PP = np.meshgrid(np.linspace(-np.pi * 1.1, np.pi * 1.1, 100), \n",
    "                     np.linspace(-3, 3, 100))\n",
    "\n",
    "HH = hamiltonian(TH, PP)\n",
    "\n",
    "plt.contour(TH, PP, HH, levels=10)\n",
    "plt.colorbar(label=r'$\\mathcal{H}(\\theta, p)$')\n",
    "\n",
    "set_axes()"
   ]
  },
  {
   "cell_type": "code",
   "execution_count": null,
   "id": "random-honor",
   "metadata": {},
   "outputs": [],
   "source": [
    "TH, PP = np.meshgrid(np.linspace(-np.pi * 1.1, np.pi * 1.1, 100), \n",
    "                     np.linspace(-3, 3, 100))\n",
    "\n",
    "HH = hamiltonian(TH, PP)\n",
    "\n",
    "plt.contourf(TH, PP, HH, cmap=plt.get_cmap('hot_r'))\n",
    "plt.colorbar(label=r'$\\mathcal{H}(\\theta, p)$')\n",
    "\n",
    "plot_arrow(2, 0)\n",
    "\n",
    "set_axes()"
   ]
  },
  {
   "cell_type": "markdown",
   "id": "raised-herald",
   "metadata": {},
   "source": [
    "<h2>Explicit Euler Method (slide 28)</h2>"
   ]
  },
  {
   "cell_type": "code",
   "execution_count": null,
   "id": "brilliant-scale",
   "metadata": {},
   "outputs": [],
   "source": [
    "def solve_euler(theta, p, dt=0.1):\n",
    "    theta_next = theta + dt * p / (m * L*L)\n",
    "    p_next = p - dt * m * g * L * np.sin(theta)\n",
    "    return (theta_next, p_next)"
   ]
  },
  {
   "cell_type": "markdown",
   "id": "cordless-submission",
   "metadata": {},
   "source": [
    "<h3>First example</h3>"
   ]
  },
  {
   "cell_type": "code",
   "execution_count": null,
   "id": "generous-carroll",
   "metadata": {},
   "outputs": [],
   "source": [
    "theta_ini = -1.1\n",
    "p_ini = 0\n",
    "n_steps = 100"
   ]
  },
  {
   "cell_type": "code",
   "execution_count": null,
   "id": "infrared-emergency",
   "metadata": {},
   "outputs": [],
   "source": [
    "results_euler = np.zeros((n_steps, 2), dtype=np.float32)\n",
    "results_euler[0] = (theta_ini, p_ini)\n",
    "\n",
    "for k in range(1, n_steps):\n",
    "    results_euler[k] = solve_euler(*results_euler[k - 1])"
   ]
  },
  {
   "cell_type": "code",
   "execution_count": null,
   "id": "prescribed-digit",
   "metadata": {},
   "outputs": [],
   "source": [
    "plt.contour(TH, PP, HH, levels=10, linestyles='--', linewidths=1)\n",
    "\n",
    "plt.plot(results_euler[:, 0], results_euler[:, 1], c='b')\n",
    "\n",
    "set_axes()"
   ]
  },
  {
   "cell_type": "code",
   "execution_count": null,
   "id": "ethical-property",
   "metadata": {},
   "outputs": [],
   "source": [
    "plt.plot(\n",
    "    hamiltonian(results_euler[:, 0], results_euler[:, 1]), \n",
    "    c='b', label='Euler integrator')\n",
    "plt.axhline(hamiltonian(theta_ini, p_ini), c='r', label='theory')\n",
    "\n",
    "plt.xlabel('Steps $k$')\n",
    "plt.ylabel(r'$\\mathcal{H}(\\theta, p)$')\n",
    "plt.legend();"
   ]
  },
  {
   "cell_type": "markdown",
   "id": "spanish-option",
   "metadata": {},
   "source": [
    "<h3>Second example: even worse!</h3>"
   ]
  },
  {
   "cell_type": "code",
   "execution_count": null,
   "id": "martial-ebony",
   "metadata": {},
   "outputs": [],
   "source": [
    "theta_ini2 = -3.\n",
    "p_ini2 = 0\n",
    "n_steps = 100"
   ]
  },
  {
   "cell_type": "code",
   "execution_count": null,
   "id": "elementary-float",
   "metadata": {},
   "outputs": [],
   "source": [
    "results_euler2 = np.zeros((n_steps, 2), dtype=np.float32)\n",
    "results_euler2[0] = (theta_ini2, p_ini2)\n",
    "\n",
    "for k in range(1, n_steps):\n",
    "    results_euler2[k] = solve_euler(*results_euler2[k - 1])"
   ]
  },
  {
   "cell_type": "code",
   "execution_count": null,
   "id": "educational-group",
   "metadata": {},
   "outputs": [],
   "source": [
    "plt.contour(TH, PP, HH, levels=10, linestyles='--', linewidths=1)\n",
    "plt.plot(results_euler2[:, 0], results_euler2[:, 1], c='b')\n",
    "set_axes()"
   ]
  },
  {
   "cell_type": "code",
   "execution_count": null,
   "id": "structured-discount",
   "metadata": {},
   "outputs": [],
   "source": [
    "h_sep = hamiltonian(-np.pi, 0) # Value of Hamiltonian at separatrix\n",
    "h_sep"
   ]
  },
  {
   "cell_type": "code",
   "execution_count": null,
   "id": "decreased-deficit",
   "metadata": {},
   "outputs": [],
   "source": [
    "plt.plot(\n",
    "    hamiltonian(results_euler2[:, 0], results_euler2[:, 1]), \n",
    "    c='b', label='Euler integrator')\n",
    "plt.axhline(hamiltonian(theta_ini2, p_ini2), c='r', label='theory')\n",
    "plt.axhline(h_sep, c='k', label='$\\mathcal{H}_{sep}$')\n",
    "\n",
    "plt.xlabel('Steps $k$')\n",
    "plt.ylabel(r'$\\mathcal{H}(\\theta, p)$')\n",
    "plt.legend(bbox_to_anchor=(1.05, 1))\n",
    "plt.ylim(top=2.1);"
   ]
  },
  {
   "cell_type": "code",
   "execution_count": null,
   "id": "identified-opportunity",
   "metadata": {},
   "outputs": [],
   "source": []
  }
 ],
 "metadata": {
  "kernelspec": {
   "display_name": "Python 3",
   "language": "python",
   "name": "python3"
  },
  "language_info": {
   "codemirror_mode": {
    "name": "ipython",
    "version": 3
   },
   "file_extension": ".py",
   "mimetype": "text/x-python",
   "name": "python",
   "nbconvert_exporter": "python",
   "pygments_lexer": "ipython3",
   "version": "3.9.18"
  }
 },
 "nbformat": 4,
 "nbformat_minor": 5
}
