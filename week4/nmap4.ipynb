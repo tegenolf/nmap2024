{
 "cells": [
  {
   "cell_type": "markdown",
   "id": "incomplete-medline",
   "metadata": {},
   "source": [
    "<h1 style=\"text-align: center; vertical-align: middle;\">Numerical Methods in Accelerator Physics</h1>\n",
    "<h2 style=\"text-align: center; vertical-align: middle;\">Python examples -- Week 4</h2>"
   ]
  },
  {
   "cell_type": "markdown",
   "id": "atlantic-france",
   "metadata": {},
   "source": [
    "<h2>Run this first!</h2>\n",
    "\n",
    "Imports and modules:"
   ]
  },
  {
   "cell_type": "code",
   "execution_count": 1,
   "id": "weighted-binary",
   "metadata": {},
   "outputs": [],
   "source": [
    "from config4 import np, plt, plot_rfwave\n",
    "from scipy.constants import m_p, e, c\n",
    "%matplotlib inline"
   ]
  },
  {
   "cell_type": "markdown",
   "id": "normal-gasoline",
   "metadata": {},
   "source": [
    "<h3>Numerical artefacts: drastic example of truncation error (slide 13)</h3>"
   ]
  },
  {
   "cell_type": "code",
   "execution_count": null,
   "id": "supported-aggregate",
   "metadata": {},
   "outputs": [],
   "source": [
    "import mpmath as mp\n",
    "\n",
    "with mp.workdps(7):\n",
    "    x = mp.mpf(10) / 9   # == 1.11...\n",
    "    \n",
    "    for _ in range(30):\n",
    "        print (x)\n",
    "        x = (x - 1) * 10"
   ]
  },
  {
   "cell_type": "markdown",
   "id": "crude-zoning",
   "metadata": {},
   "source": [
    "<h3>RF cavity (slide 26)</h3>"
   ]
  },
  {
   "cell_type": "code",
   "execution_count": 2,
   "id": "dependent-alaska",
   "metadata": {},
   "outputs": [
    {
     "data": {
      "image/png": "[encoded data removed]",
      "text/plain": [
       "<Figure size 432x288 with 1 Axes>"
      ]
     },
     "metadata": {
      "needs_background": "light"
     },
     "output_type": "display_data"
    }
   ],
   "source": [
    "plot_rfwave();"
   ]
  },
  {
   "cell_type": "markdown",
   "id": "lonely-practitioner",
   "metadata": {},
   "source": [
    "<h3>Transition energy (slide 39)</h3>"
   ]
  },
  {
   "cell_type": "markdown",
   "id": "worthy-teacher",
   "metadata": {},
   "source": [
    "|  || $\\gamma<\\gamma_\\text{t}$ || $\\gamma>\\gamma_\\text{t}$ |\n",
    "| :- || :-: || :-: |\n",
    "| $\\varphi>\\varphi_s$ || $\\color{blue}{\\delta < 0}$ || $\\color{orange}{\\delta > 0}$ |\n",
    "| $\\varphi<\\varphi_s$ || $\\color{orange}{\\delta > 0}$ || $\\color{blue}{\\delta < 0}$ |"
   ]
  },
  {
   "cell_type": "code",
   "execution_count": null,
   "id": "harmful-substitute",
   "metadata": {
    "scrolled": false
   },
   "outputs": [],
   "source": [
    "plot_rfwave(phi_s=0.5, regime='classical');"
   ]
  },
  {
   "cell_type": "code",
   "execution_count": null,
   "id": "coral-sympathy",
   "metadata": {
    "scrolled": false
   },
   "outputs": [],
   "source": [
    "plot_rfwave(phi_s=np.pi-0.5, regime='classical');"
   ]
  },
  {
   "cell_type": "code",
   "execution_count": null,
   "id": "unlike-assets",
   "metadata": {},
   "outputs": [],
   "source": [
    "plot_rfwave(phi_s=0.5, regime='relativistic');"
   ]
  },
  {
   "cell_type": "code",
   "execution_count": null,
   "id": "stone-quantity",
   "metadata": {},
   "outputs": [],
   "source": [
    "plot_rfwave(phi_s=np.pi-0.5, regime='relativistic');"
   ]
  },
  {
   "cell_type": "code",
   "execution_count": null,
   "id": "developed-canadian",
   "metadata": {},
   "outputs": [],
   "source": []
  }
 ],
 "metadata": {
  "kernelspec": {
   "display_name": "Python 3",
   "language": "python",
   "name": "python3"
  },
  "language_info": {
   "codemirror_mode": {
    "name": "ipython",
    "version": 3
   },
   "file_extension": ".py",
   "mimetype": "text/x-python",
   "name": "python",
   "nbconvert_exporter": "python",
   "pygments_lexer": "ipython3",
   "version": "3.9.18"
  }
 },
 "nbformat": 4,
 "nbformat_minor": 5
}
